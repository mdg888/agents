{
 "cells": [
  {
   "cell_type": "markdown",
   "id": "5c291475-8c7c-461c-9b12-545a887b2432",
   "metadata": {},
   "source": [
    "# Async Python\n",
    "\n",
    "## A briefing on asynchronous python coding, essential in Agent engineering"
   ]
  },
  {
   "cell_type": "markdown",
   "id": "538fa044",
   "metadata": {},
   "source": [
    "Here is a masterful tutorial by you-know-who with exercises and comparisons.\n",
    "\n",
    "https://chatgpt.com/share/680648b1-b0a0-8012-8449-4f90b540886c\n",
    "\n",
    "This includes how to run async code from a python module.\n",
    "\n",
    "### And now some examples:"
   ]
  },
  {
   "cell_type": "code",
   "execution_count": null,
   "id": "acde97f1",
   "metadata": {},
   "outputs": [
    {
     "name": "stdout",
     "output_type": "stream",
     "text": [
      "* Running on local URL:  http://127.0.0.1:7863\n",
      "* To create a public link, set `share=True` in `launch()`.\n"
     ]
    },
    {
     "data": {
      "text/html": [
       "<div><iframe src=\"http://127.0.0.1:7863/\" width=\"100%\" height=\"500\" allow=\"autoplay; camera; microphone; clipboard-read; clipboard-write;\" frameborder=\"0\" allowfullscreen></iframe></div>"
      ],
      "text/plain": [
       "<IPython.core.display.HTML object>"
      ]
     },
     "metadata": {},
     "output_type": "display_data"
    },
    {
     "data": {
      "text/plain": []
     },
     "execution_count": 53,
     "metadata": {},
     "output_type": "execute_result"
    }
   ],
   "source": [
    "import gradio as gr\n",
    "import asyncio\n",
    "import time\n",
    "\n",
    "async def say_hi(name):\n",
    "    await asyncio.sleep(2)\n",
    "    return f\"Hello, {name}! (after waiting)\"\n",
    "\n",
    "gr.Interface(fn=say_hi, inputs=\"text\", outputs=\"text\").launch()\n",
    "\n",
    "def say_hi_sync(name):\n",
    "    time.sleep(2)\n",
    "    return f\"Hello, {name}! (after waiting)\"\n",
    "\n",
    "gr.Interface(fn=say_hi_sync, inputs=\"text\", outputs=\"text\").launch()\n"
   ]
  },
  {
   "cell_type": "code",
   "execution_count": 23,
   "id": "0518ac17",
   "metadata": {},
   "outputs": [
    {
     "name": "stdout",
     "output_type": "stream",
     "text": [
      "Hello, Michael! \n"
     ]
    }
   ],
   "source": [
    "import asyncio\n",
    "\n",
    "async def hello(name):\n",
    "    await asyncio.sleep(2)\n",
    "    print(f\"Hello, {name}! \")\n",
    "\n",
    "await hello(\"Michael\")"
   ]
  },
  {
   "cell_type": "code",
   "execution_count": 25,
   "id": "78c04a32",
   "metadata": {},
   "outputs": [
    {
     "name": "stdout",
     "output_type": "stream",
     "text": [
      "data fetched\n",
      "process data\n",
      "data saved\n"
     ]
    }
   ],
   "source": [
    "async def fetch_data():\n",
    "    await asyncio.sleep(1)\n",
    "    print(\"data fetched\")\n",
    "\n",
    "async def process_data():\n",
    "    await asyncio.sleep(2)\n",
    "    print(\"process data\")\n",
    "\n",
    "async def save_data():\n",
    "    await asyncio.sleep(3)\n",
    "    print(\"data saved\")\n",
    "\n",
    "async def main():\n",
    "    await asyncio.gather(fetch_data(), process_data(), save_data())\n",
    "\n",
    "await main()\n",
    "\n"
   ]
  },
  {
   "cell_type": "code",
   "execution_count": 33,
   "id": "6d74cc75",
   "metadata": {},
   "outputs": [
    {
     "name": "stdout",
     "output_type": "stream",
     "text": [
      "5\n",
      "4\n",
      "3\n",
      "2\n",
      "1\n"
     ]
    }
   ],
   "source": [
    "# decrements down from 5 to 1\n",
    "# write a for loop which prints it\n",
    "# decrement the value in the for loop \n",
    "async def countdown():\n",
    "    for i in range(5,0, -1):\n",
    "        await asyncio.sleep(1)\n",
    "        print(f\"{i}\")\n",
    "\n",
    "await countdown()\n"
   ]
  },
  {
   "cell_type": "code",
   "execution_count": null,
   "id": "09f5662a",
   "metadata": {},
   "outputs": [
    {
     "name": "stdout",
     "output_type": "stream",
     "text": [
      "Starting work\n",
      "Work complete\n",
      "2+2 is 4 minus 1\n",
      "thats 3 quick mafs\n"
     ]
    }
   ],
   "source": [
    "# Let's define an async function\n",
    "\n",
    "import asyncio\n",
    "\n",
    "async def do_some_work():\n",
    "    print(\"Starting work\")\n",
    "    await asyncio.sleep(1)\n",
    "    print(\"Work complete\")\n",
    "\n",
    "await do_some_work()\n",
    "\n",
    "async def hi():\n",
    "    await asyncio.sleep(2)\n",
    "    print(\"2+2 is 4 minus 1\")\n",
    "    await asyncio.sleep(2)\n",
    "    print(\"thats 3\" )\n",
    "    print(\"quick mafs\")\n",
    "\n",
    "await hi()"
   ]
  },
  {
   "cell_type": "code",
   "execution_count": 3,
   "id": "07ab3abf",
   "metadata": {},
   "outputs": [
    {
     "data": {
      "text/plain": [
       "<coroutine object do_some_work at 0x000001DAD7687880>"
      ]
     },
     "execution_count": 3,
     "metadata": {},
     "output_type": "execute_result"
    }
   ],
   "source": [
    "# What will this do?\n",
    "\n",
    "do_some_work()"
   ]
  },
  {
   "cell_type": "code",
   "execution_count": 11,
   "id": "6d681b6d",
   "metadata": {},
   "outputs": [
    {
     "name": "stdout",
     "output_type": "stream",
     "text": [
      "Starting work\n",
      "Work complete\n"
     ]
    }
   ],
   "source": [
    "# OK let's try that again!\n",
    "\n",
    "await do_some_work()"
   ]
  },
  {
   "cell_type": "code",
   "execution_count": null,
   "id": "ea867090",
   "metadata": {},
   "outputs": [
    {
     "name": "stdout",
     "output_type": "stream",
     "text": [
      "Starting work\n",
      "Work complete\n",
      "Starting work\n",
      "Work complete\n",
      "Starting work\n",
      "Work complete\n"
     ]
    }
   ],
   "source": [
    "# What's wrong with this?\n",
    "\n",
    "async def do_a_lot_of_work():\n",
    "    do_some_work()\n",
    "    do_some_work()\n",
    "    do_some_work()\n",
    "\n",
    "await do_a_lot_of_work()"
   ]
  },
  {
   "cell_type": "code",
   "execution_count": null,
   "id": "e9c75c3f",
   "metadata": {},
   "outputs": [],
   "source": [
    "# Interesting warning! Let's fix it\n",
    "\n",
    "async def do_a_lot_of_work():\n",
    "    await do_some_work()\n",
    "    await do_some_work()\n",
    "    await do_some_work()\n",
    "\n",
    "await do_a_lot_of_work()"
   ]
  },
  {
   "cell_type": "code",
   "execution_count": 14,
   "id": "720cf3f5",
   "metadata": {},
   "outputs": [
    {
     "name": "stdout",
     "output_type": "stream",
     "text": [
      "Starting work\n",
      "Starting work\n",
      "Starting work\n",
      "Work complete\n",
      "Work complete\n",
      "Work complete\n"
     ]
    }
   ],
   "source": [
    "# And now let's do it in parallel\n",
    "# It's important to recognize that this is not \"multi-threading\" in the way that you may be used to\n",
    "# The asyncio library is running on a single thread, but it's using a loop to switch between tasks while one is waiting\n",
    "\n",
    "async def do_a_lot_of_work_in_parallel():\n",
    "    await asyncio.gather(do_some_work(), do_some_work(), do_some_work())\n",
    "\n",
    "await do_a_lot_of_work_in_parallel()"
   ]
  },
  {
   "cell_type": "code",
   "execution_count": 17,
   "id": "2d1f560a",
   "metadata": {},
   "outputs": [
    {
     "name": "stdout",
     "output_type": "stream",
     "text": [
      "A done after 1s\n",
      "B done after 2s\n",
      "C done after 3s\n",
      "['A', 'B', 'C']\n"
     ]
    },
    {
     "ename": "RuntimeError",
     "evalue": "asyncio.run() cannot be called from a running event loop",
     "output_type": "error",
     "traceback": [
      "\u001b[31m---------------------------------------------------------------------------\u001b[39m",
      "\u001b[31mRuntimeError\u001b[39m                              Traceback (most recent call last)",
      "\u001b[36mCell\u001b[39m\u001b[36m \u001b[39m\u001b[32mIn[17]\u001b[39m\u001b[32m, line 16\u001b[39m\n\u001b[32m      9\u001b[39m     results = \u001b[38;5;28;01mawait\u001b[39;00m asyncio.gather(\n\u001b[32m     10\u001b[39m         task(\u001b[33m\"\u001b[39m\u001b[33mA\u001b[39m\u001b[33m\"\u001b[39m, \u001b[32m1\u001b[39m),\n\u001b[32m     11\u001b[39m         task(\u001b[33m\"\u001b[39m\u001b[33mB\u001b[39m\u001b[33m\"\u001b[39m, \u001b[32m2\u001b[39m),\n\u001b[32m     12\u001b[39m         task(\u001b[33m\"\u001b[39m\u001b[33mC\u001b[39m\u001b[33m\"\u001b[39m, \u001b[32m3\u001b[39m)\n\u001b[32m     13\u001b[39m     )\n\u001b[32m     14\u001b[39m     \u001b[38;5;28mprint\u001b[39m(results)\n\u001b[32m---> \u001b[39m\u001b[32m16\u001b[39m \u001b[43masyncio\u001b[49m\u001b[43m.\u001b[49m\u001b[43mrun\u001b[49m\u001b[43m(\u001b[49m\u001b[38;5;28;43;01mawait\u001b[39;49;00m\u001b[43m \u001b[49m\u001b[43mmain\u001b[49m\u001b[43m(\u001b[49m\u001b[43m)\u001b[49m\u001b[43m)\u001b[49m\n",
      "\u001b[36mFile \u001b[39m\u001b[32m~\\AppData\\Roaming\\uv\\python\\cpython-3.12.11-windows-x86_64-none\\Lib\\asyncio\\runners.py:191\u001b[39m, in \u001b[36mrun\u001b[39m\u001b[34m(main, debug, loop_factory)\u001b[39m\n\u001b[32m    161\u001b[39m \u001b[38;5;250m\u001b[39m\u001b[33;03m\"\"\"Execute the coroutine and return the result.\u001b[39;00m\n\u001b[32m    162\u001b[39m \n\u001b[32m    163\u001b[39m \u001b[33;03mThis function runs the passed coroutine, taking care of\u001b[39;00m\n\u001b[32m   (...)\u001b[39m\u001b[32m    187\u001b[39m \u001b[33;03m    asyncio.run(main())\u001b[39;00m\n\u001b[32m    188\u001b[39m \u001b[33;03m\"\"\"\u001b[39;00m\n\u001b[32m    189\u001b[39m \u001b[38;5;28;01mif\u001b[39;00m events._get_running_loop() \u001b[38;5;129;01mis\u001b[39;00m \u001b[38;5;129;01mnot\u001b[39;00m \u001b[38;5;28;01mNone\u001b[39;00m:\n\u001b[32m    190\u001b[39m     \u001b[38;5;66;03m# fail fast with short traceback\u001b[39;00m\n\u001b[32m--> \u001b[39m\u001b[32m191\u001b[39m     \u001b[38;5;28;01mraise\u001b[39;00m \u001b[38;5;167;01mRuntimeError\u001b[39;00m(\n\u001b[32m    192\u001b[39m         \u001b[33m\"\u001b[39m\u001b[33masyncio.run() cannot be called from a running event loop\u001b[39m\u001b[33m\"\u001b[39m)\n\u001b[32m    194\u001b[39m \u001b[38;5;28;01mwith\u001b[39;00m Runner(debug=debug, loop_factory=loop_factory) \u001b[38;5;28;01mas\u001b[39;00m runner:\n\u001b[32m    195\u001b[39m     \u001b[38;5;28;01mreturn\u001b[39;00m runner.run(main)\n",
      "\u001b[31mRuntimeError\u001b[39m: asyncio.run() cannot be called from a running event loop"
     ]
    }
   ],
   "source": [
    "import asyncio\n",
    "\n",
    "async def task(name, delay):\n",
    "    await asyncio.sleep(delay)\n",
    "    print(f\"{name} done after {delay}s\")\n",
    "    return name\n",
    "\n",
    "async def main():\n",
    "    results = await asyncio.gather(\n",
    "        task(\"A\", 1),\n",
    "        task(\"B\", 2),\n",
    "        task(\"C\", 3)\n",
    "    )\n",
    "    print(results)\n",
    "\n",
    "asyncio.run(await main())"
   ]
  },
  {
   "cell_type": "markdown",
   "id": "230f85de",
   "metadata": {},
   "source": [
    "### Finally - try writing a python module that calls do_a_lot_of_work_in_parallel\n",
    "\n",
    "See the link at the top; you'll need something like this in your module:\n",
    "\n",
    "```python\n",
    "if __name__ == \"__main__\":\n",
    "    asyncio.run(do_a_lot_of_work_in_parallel())\n",
    "```"
   ]
  }
 ],
 "metadata": {
  "kernelspec": {
   "display_name": ".venv",
   "language": "python",
   "name": "python3"
  },
  "language_info": {
   "codemirror_mode": {
    "name": "ipython",
    "version": 3
   },
   "file_extension": ".py",
   "mimetype": "text/x-python",
   "name": "python",
   "nbconvert_exporter": "python",
   "pygments_lexer": "ipython3",
   "version": "3.12.11"
  }
 },
 "nbformat": 4,
 "nbformat_minor": 5
}
